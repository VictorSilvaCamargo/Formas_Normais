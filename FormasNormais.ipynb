{
  "nbformat": 4,
  "nbformat_minor": 0,
  "metadata": {
    "colab": {
      "provenance": [],
      "authorship_tag": "ABX9TyO+dHgsKiEid+UiUz3WhSkY",
      "include_colab_link": true
    },
    "kernelspec": {
      "name": "python3",
      "display_name": "Python 3"
    },
    "language_info": {
      "name": "python"
    }
  },
  "cells": [
    {
      "cell_type": "markdown",
      "metadata": {
        "id": "view-in-github",
        "colab_type": "text"
      },
      "source": [
        "<a href=\"https://colab.research.google.com/github/VictorSilvaCamargo/Formas_Normais/blob/main/FormasNormais.ipynb\" target=\"_parent\"><img src=\"https://colab.research.google.com/assets/colab-badge.svg\" alt=\"Open In Colab\"/></a>"
      ]
    },
    {
      "cell_type": "code",
      "execution_count": null,
      "metadata": {
        "id": "uGf5srAMLEyo",
        "colab": {
          "base_uri": "https://localhost:8080/",
          "height": 1000
        },
        "outputId": "62695cfc-7e01-4fae-8b7f-45744de904f8"
      },
      "outputs": [
        {
          "output_type": "stream",
          "name": "stdout",
          "text": [
            "P(x)   Q(y)   resultado\n",
            "------------------\n",
            "1   1   0\n",
            "\n",
            "\n",
            "1   0   0\n",
            "\n",
            "\n",
            "0   1   0\n",
            "\n",
            "\n",
            "0   0   1\n",
            "\n",
            "\n",
            "Conjunção de dijunções: \n",
            "\n"
          ]
        },
        {
          "output_type": "display_data",
          "data": {
            "text/plain": [
              "<IPython.core.display.Latex object>"
            ],
            "text/latex": "$\\forall x \\exists y (( \\neg P(x)  \\vee   \\neg Q(y))  \\wedge  ( \\neg P(x)  \\vee  Q(y))  \\wedge  (P(x)  \\vee   \\neg Q(y)))$"
          },
          "metadata": {}
        },
        {
          "output_type": "stream",
          "name": "stdout",
          "text": [
            "\n",
            "\n",
            "Dijunção de conjunções:\n",
            "\n"
          ]
        },
        {
          "output_type": "display_data",
          "data": {
            "text/plain": [
              "<IPython.core.display.Latex object>"
            ],
            "text/latex": "$\\forall x \\exists y ((P(x)  \\wedge  Q(y)))$"
          },
          "metadata": {}
        },
        {
          "output_type": "stream",
          "name": "stdout",
          "text": [
            "\n",
            "\n",
            "P(x)   Q(y)   resultado\n",
            "------------------\n",
            "1   1   1\n",
            "\n",
            "\n",
            "1   0   0\n",
            "\n",
            "\n",
            "0   1   1\n",
            "\n",
            "\n",
            "0   0   1\n",
            "\n",
            "\n",
            "Conjunção de dijunções: \n",
            "\n"
          ]
        },
        {
          "output_type": "display_data",
          "data": {
            "text/plain": [
              "<IPython.core.display.Latex object>"
            ],
            "text/latex": "$\\forall x \\exists y (( \\neg P(x)  \\vee  Q(y)))$"
          },
          "metadata": {}
        },
        {
          "output_type": "stream",
          "name": "stdout",
          "text": [
            "\n",
            "\n",
            "Dijunção de conjunções:\n",
            "\n"
          ]
        },
        {
          "output_type": "display_data",
          "data": {
            "text/plain": [
              "<IPython.core.display.Latex object>"
            ],
            "text/latex": "$\\forall x \\exists y (( \\neg P(x)  \\wedge   \\neg Q(y))  \\vee  (P(x)  \\wedge   \\neg Q(y))  \\vee  (P(x)  \\wedge  Q(y)))$"
          },
          "metadata": {}
        },
        {
          "output_type": "stream",
          "name": "stdout",
          "text": [
            "\n",
            "\n",
            "P(x)   Q(y)   resultado\n",
            "------------------\n",
            "1   1   1\n",
            "\n",
            "\n",
            "1   0   0\n",
            "\n",
            "\n",
            "0   1   0\n",
            "\n",
            "\n",
            "0   0   1\n",
            "\n",
            "\n",
            "Conjunção de dijunções: \n",
            "\n"
          ]
        },
        {
          "output_type": "display_data",
          "data": {
            "text/plain": [
              "<IPython.core.display.Latex object>"
            ],
            "text/latex": "$\\forall x \\exists y (( \\neg P(x)  \\vee  Q(y))  \\wedge  (P(x)  \\vee   \\neg Q(y)))$"
          },
          "metadata": {}
        },
        {
          "output_type": "stream",
          "name": "stdout",
          "text": [
            "\n",
            "\n",
            "Dijunção de conjunções:\n",
            "\n"
          ]
        },
        {
          "output_type": "display_data",
          "data": {
            "text/plain": [
              "<IPython.core.display.Latex object>"
            ],
            "text/latex": "$\\forall x \\exists y (( \\neg P(x)  \\wedge   \\neg Q(y))  \\vee  (P(x)  \\wedge  Q(y)))$"
          },
          "metadata": {}
        },
        {
          "output_type": "stream",
          "name": "stdout",
          "text": [
            "\n",
            "\n",
            "P(x)   Q(y)   R(x)   resultado\n",
            "----------------------\n",
            "1   1   1   1\n",
            "\n",
            "\n",
            "1   1   0   1\n",
            "\n",
            "\n",
            "1   0   1   1\n",
            "\n",
            "\n",
            "1   0   0   1\n",
            "\n",
            "\n",
            "0   1   1   1\n",
            "\n",
            "\n",
            "0   1   0   0\n",
            "\n",
            "\n",
            "0   0   1   0\n",
            "\n",
            "\n",
            "0   0   0   0\n",
            "\n",
            "\n",
            "Conjunção de dijunções: \n",
            "\n"
          ]
        },
        {
          "output_type": "display_data",
          "data": {
            "text/plain": [
              "<IPython.core.display.Latex object>"
            ],
            "text/latex": "$\\forall x \\exists y ((P(x)  \\vee   \\neg Q(y)  \\vee  R(x))  \\wedge  (P(x)  \\vee  Q(y)  \\vee   \\neg R(x))  \\wedge  (P(x)  \\vee  Q(y)  \\vee  R(x)))$"
          },
          "metadata": {}
        },
        {
          "output_type": "stream",
          "name": "stdout",
          "text": [
            "\n",
            "\n",
            "Dijunção de conjunções:\n",
            "\n"
          ]
        },
        {
          "output_type": "display_data",
          "data": {
            "text/plain": [
              "<IPython.core.display.Latex object>"
            ],
            "text/latex": "$\\forall x \\exists y (( \\neg P(x)  \\wedge   \\neg Q(y)  \\wedge   \\neg R(x))  \\vee  ( \\neg P(x)  \\wedge   \\neg Q(y)  \\wedge  R(x))  \\vee  ( \\neg P(x)  \\wedge  Q(y)  \\wedge   \\neg R(x))  \\vee  ( \\neg P(x)  \\wedge  Q(y)  \\wedge  R(x))  \\vee  (P(x)  \\wedge   \\neg Q(y)  \\wedge   \\neg R(x)))$"
          },
          "metadata": {}
        },
        {
          "output_type": "stream",
          "name": "stdout",
          "text": [
            "\n",
            "\n",
            "P(x)   Q(y)   R(x, y)   resultado\n",
            "----------------------\n",
            "1   1   1   1\n",
            "\n",
            "\n",
            "1   1   0   0\n",
            "\n",
            "\n",
            "1   0   1   1\n",
            "\n",
            "\n",
            "1   0   0   1\n",
            "\n",
            "\n",
            "0   1   1   1\n",
            "\n",
            "\n",
            "0   1   0   0\n",
            "\n",
            "\n",
            "0   0   1   1\n",
            "\n",
            "\n",
            "0   0   0   0\n",
            "\n",
            "\n",
            "Conjunção de dijunções: \n",
            "\n"
          ]
        },
        {
          "output_type": "display_data",
          "data": {
            "text/plain": [
              "<IPython.core.display.Latex object>"
            ],
            "text/latex": "$\\forall x \\exists y (( \\neg P(x)  \\vee   \\neg Q(y)  \\vee  R(x, y))  \\wedge  (P(x)  \\vee   \\neg Q(y)  \\vee  R(x, y))  \\wedge  (P(x)  \\vee  Q(y)  \\vee  R(x, y)))$"
          },
          "metadata": {}
        },
        {
          "output_type": "stream",
          "name": "stdout",
          "text": [
            "\n",
            "\n",
            "Dijunção de conjunções:\n",
            "\n"
          ]
        },
        {
          "output_type": "display_data",
          "data": {
            "text/plain": [
              "<IPython.core.display.Latex object>"
            ],
            "text/latex": "$\\forall x \\exists y (( \\neg P(x)  \\wedge   \\neg Q(y)  \\wedge   \\neg R(x, y))  \\vee  ( \\neg P(x)  \\wedge  Q(y)  \\wedge   \\neg R(x, y))  \\vee  ( \\neg P(x)  \\wedge  Q(y)  \\wedge  R(x, y))  \\vee  (P(x)  \\wedge   \\neg Q(y)  \\wedge   \\neg R(x, y))  \\vee  (P(x)  \\wedge  Q(y)  \\wedge   \\neg R(x, y)))$"
          },
          "metadata": {}
        },
        {
          "output_type": "stream",
          "name": "stdout",
          "text": [
            "\n",
            "\n",
            "P(x)   Q(y)   R(x)   S(x, y)   resultado\n",
            "--------------------------\n",
            "1   1   1   1   1\n",
            "\n",
            "\n",
            "1   1   1   0   0\n",
            "\n",
            "\n",
            "1   1   0   1   0\n",
            "\n",
            "\n",
            "1   1   0   0   1\n",
            "\n",
            "\n",
            "1   0   1   1   0\n",
            "\n",
            "\n",
            "1   0   1   0   1\n",
            "\n",
            "\n",
            "1   0   0   1   0\n",
            "\n",
            "\n",
            "1   0   0   0   1\n",
            "\n",
            "\n",
            "0   1   1   1   1\n",
            "\n",
            "\n",
            "0   1   1   0   0\n",
            "\n",
            "\n",
            "0   1   0   1   1\n",
            "\n",
            "\n",
            "0   1   0   0   0\n",
            "\n",
            "\n",
            "0   0   1   1   1\n",
            "\n",
            "\n",
            "0   0   1   0   0\n",
            "\n",
            "\n",
            "0   0   0   1   1\n",
            "\n",
            "\n",
            "0   0   0   0   0\n",
            "\n",
            "\n",
            "Conjunção de dijunções: \n",
            "\n"
          ]
        },
        {
          "output_type": "display_data",
          "data": {
            "text/plain": [
              "<IPython.core.display.Latex object>"
            ],
            "text/latex": "$\\forall x \\exists y (( \\neg P(x)  \\vee   \\neg Q(y)  \\vee   \\neg R(x)  \\vee  S(x, y))  \\wedge  ( \\neg P(x)  \\vee   \\neg Q(y)  \\vee  R(x)  \\vee   \\neg S(x, y))  \\wedge  ( \\neg P(x)  \\vee  Q(y)  \\vee   \\neg R(x)  \\vee   \\neg S(x, y))  \\wedge  ( \\neg P(x)  \\vee  Q(y)  \\vee  R(x)  \\vee   \\neg S(x, y))  \\wedge  (P(x)  \\vee   \\neg Q(y)  \\vee   \\neg R(x)  \\vee  S(x, y))  \\wedge  (P(x)  \\vee   \\neg Q(y)  \\vee  R(x)  \\vee  S(x, y))  \\wedge  (P(x)  \\vee  Q(y)  \\vee   \\neg R(x)  \\vee  S(x, y))  \\wedge  (P(x)  \\vee  Q(y)  \\vee  R(x)  \\vee  S(x, y)))$"
          },
          "metadata": {}
        },
        {
          "output_type": "stream",
          "name": "stdout",
          "text": [
            "\n",
            "\n",
            "Dijunção de conjunções:\n",
            "\n"
          ]
        },
        {
          "output_type": "display_data",
          "data": {
            "text/plain": [
              "<IPython.core.display.Latex object>"
            ],
            "text/latex": "$\\forall x \\exists y (( \\neg P(x)  \\wedge   \\neg Q(y)  \\wedge   \\neg R(x)  \\wedge   \\neg S(x, y))  \\vee  ( \\neg P(x)  \\wedge   \\neg Q(y)  \\wedge  R(x)  \\wedge  S(x, y))  \\vee  ( \\neg P(x)  \\wedge  Q(y)  \\wedge   \\neg R(x)  \\wedge  S(x, y))  \\vee  ( \\neg P(x)  \\wedge  Q(y)  \\wedge  R(x)  \\wedge  S(x, y))  \\vee  (P(x)  \\wedge   \\neg Q(y)  \\wedge   \\neg R(x)  \\wedge   \\neg S(x, y))  \\vee  (P(x)  \\wedge   \\neg Q(y)  \\wedge  R(x)  \\wedge   \\neg S(x, y))  \\vee  (P(x)  \\wedge  Q(y)  \\wedge   \\neg R(x)  \\wedge   \\neg S(x, y))  \\vee  (P(x)  \\wedge  Q(y)  \\wedge  R(x)  \\wedge   \\neg S(x, y)))$"
          },
          "metadata": {}
        },
        {
          "output_type": "stream",
          "name": "stdout",
          "text": [
            "\n",
            "\n",
            "P(x)   Q(y)   R(x)   resultado\n",
            "----------------------\n",
            "1   1   1   0\n",
            "\n",
            "\n",
            "1   1   0   0\n",
            "\n",
            "\n",
            "1   0   1   0\n",
            "\n",
            "\n",
            "1   0   0   0\n",
            "\n",
            "\n",
            "0   1   1   0\n",
            "\n",
            "\n",
            "0   1   0   0\n",
            "\n",
            "\n",
            "0   0   1   0\n",
            "\n",
            "\n",
            "0   0   0   1\n",
            "\n",
            "\n",
            "Conjunção de dijunções: \n",
            "\n"
          ]
        },
        {
          "output_type": "display_data",
          "data": {
            "text/plain": [
              "<IPython.core.display.Latex object>"
            ],
            "text/latex": "$\\forall x \\exists y (( \\neg P(x)  \\vee   \\neg Q(y)  \\vee   \\neg R(x))  \\wedge  ( \\neg P(x)  \\vee   \\neg Q(y)  \\vee  R(x))  \\wedge  ( \\neg P(x)  \\vee  Q(y)  \\vee   \\neg R(x))  \\wedge  ( \\neg P(x)  \\vee  Q(y)  \\vee  R(x))  \\wedge  (P(x)  \\vee   \\neg Q(y)  \\vee   \\neg R(x))  \\wedge  (P(x)  \\vee   \\neg Q(y)  \\vee  R(x))  \\wedge  (P(x)  \\vee  Q(y)  \\vee   \\neg R(x)))$"
          },
          "metadata": {}
        },
        {
          "output_type": "stream",
          "name": "stdout",
          "text": [
            "\n",
            "\n",
            "Dijunção de conjunções:\n",
            "\n"
          ]
        },
        {
          "output_type": "display_data",
          "data": {
            "text/plain": [
              "<IPython.core.display.Latex object>"
            ],
            "text/latex": "$\\forall x \\exists y ((P(x)  \\wedge  Q(y)  \\wedge  R(x)))$"
          },
          "metadata": {}
        },
        {
          "output_type": "stream",
          "name": "stdout",
          "text": [
            "\n",
            "\n",
            "P(x)   Q(y)   R(x)   S(x, y)   resultado\n",
            "--------------------------\n",
            "1   1   1   1   0\n",
            "\n",
            "\n",
            "1   1   1   0   1\n",
            "\n",
            "\n",
            "1   1   0   1   0\n",
            "\n",
            "\n",
            "1   1   0   0   1\n",
            "\n",
            "\n",
            "1   0   1   1   0\n",
            "\n",
            "\n",
            "1   0   1   0   1\n",
            "\n",
            "\n",
            "1   0   0   1   1\n",
            "\n",
            "\n",
            "1   0   0   0   0\n",
            "\n",
            "\n",
            "0   1   1   1   1\n",
            "\n",
            "\n",
            "0   1   1   0   0\n",
            "\n",
            "\n",
            "0   1   0   1   1\n",
            "\n",
            "\n",
            "0   1   0   0   0\n",
            "\n",
            "\n",
            "0   0   1   1   1\n",
            "\n",
            "\n",
            "0   0   1   0   0\n",
            "\n",
            "\n",
            "0   0   0   1   1\n",
            "\n",
            "\n",
            "0   0   0   0   0\n",
            "\n",
            "\n",
            "Conjunção de dijunções: \n",
            "\n"
          ]
        },
        {
          "output_type": "display_data",
          "data": {
            "text/plain": [
              "<IPython.core.display.Latex object>"
            ],
            "text/latex": "$\\forall x \\exists y (( \\neg P(x)  \\vee   \\neg Q(y)  \\vee   \\neg R(x)  \\vee   \\neg S(x, y))  \\wedge  ( \\neg P(x)  \\vee   \\neg Q(y)  \\vee  R(x)  \\vee   \\neg S(x, y))  \\wedge  ( \\neg P(x)  \\vee  Q(y)  \\vee   \\neg R(x)  \\vee   \\neg S(x, y))  \\wedge  ( \\neg P(x)  \\vee  Q(y)  \\vee  R(x)  \\vee  S(x, y))  \\wedge  (P(x)  \\vee   \\neg Q(y)  \\vee   \\neg R(x)  \\vee  S(x, y))  \\wedge  (P(x)  \\vee   \\neg Q(y)  \\vee  R(x)  \\vee  S(x, y))  \\wedge  (P(x)  \\vee  Q(y)  \\vee   \\neg R(x)  \\vee  S(x, y))  \\wedge  (P(x)  \\vee  Q(y)  \\vee  R(x)  \\vee  S(x, y)))$"
          },
          "metadata": {}
        },
        {
          "output_type": "stream",
          "name": "stdout",
          "text": [
            "\n",
            "\n",
            "Dijunção de conjunções:\n",
            "\n"
          ]
        },
        {
          "output_type": "display_data",
          "data": {
            "text/plain": [
              "<IPython.core.display.Latex object>"
            ],
            "text/latex": "$\\forall x \\exists y (( \\neg P(x)  \\wedge   \\neg Q(y)  \\wedge   \\neg R(x)  \\wedge  S(x, y))  \\vee  ( \\neg P(x)  \\wedge   \\neg Q(y)  \\wedge  R(x)  \\wedge  S(x, y))  \\vee  ( \\neg P(x)  \\wedge  Q(y)  \\wedge   \\neg R(x)  \\wedge  S(x, y))  \\vee  ( \\neg P(x)  \\wedge  Q(y)  \\wedge  R(x)  \\wedge   \\neg S(x, y))  \\vee  (P(x)  \\wedge   \\neg Q(y)  \\wedge   \\neg R(x)  \\wedge   \\neg S(x, y))  \\vee  (P(x)  \\wedge   \\neg Q(y)  \\wedge  R(x)  \\wedge   \\neg S(x, y))  \\vee  (P(x)  \\wedge  Q(y)  \\wedge   \\neg R(x)  \\wedge   \\neg S(x, y))  \\vee  (P(x)  \\wedge  Q(y)  \\wedge  R(x)  \\wedge   \\neg S(x, y)))$"
          },
          "metadata": {}
        },
        {
          "output_type": "stream",
          "name": "stdout",
          "text": [
            "\n",
            "\n"
          ]
        }
      ],
      "source": [
        "# biblioteca para imprimir em latex\n",
        "from IPython.display import display, Latex\n",
        "# Biblioteca para  realizar operações de busca, correspondência, substituição e manipulação de texto com base em padrões específicos\n",
        "import re\n",
        "\n",
        "# Definir uma função para formatar uma expressão lógica substituindo os operadores\n",
        "def expressao_formatada(expressao):\n",
        "    # Substituir os operadores lógicos LaTeX por notação mais convencional\n",
        "    expressao_formatada = expressao.replace(r\"\\land\", r\" \\wedge \")\n",
        "    expressao_formatada = expressao_formatada.replace(r\"\\lor\", r\" \\vee \")\n",
        "    expressao_formatada = expressao_formatada.replace(r\"\\neg\", r\" \\neg \")\n",
        "    expressao_formatada = expressao_formatada.replace(r\"\\rightarrow\", r\" \\Rightarrow \")\n",
        "    expressao_formatada = expressao_formatada.replace(r\"\\leftrightarrow\", r\" \\Leftrightarrow \")\n",
        "    return expressao_formatada\n",
        "\n",
        "# Definir uma função para avaliar uma expressão lógica com valores de variáveis fornecidos\n",
        "def evaluate_expressao(expressao, valores_variáveis):\n",
        "    # Substituir variáveis pelos valores fornecidos\n",
        "    for var, valor in valores_variáveis.items():\n",
        "        expressao = expressao.replace(var, str(int(valor)))\n",
        "    # Substituir operadores LaTeX por notação mais convencional\n",
        "    expressao = expressao.replace(r\"\\land\", \" and \")\n",
        "    expressao = expressao.replace(r\"\\lor\", \" or \")\n",
        "    expressao = expressao.replace(r\"\\neg\", \" not \")\n",
        "    expressao = expressao.replace(r\"\\Rightarrow\", \"<=\")\n",
        "\n",
        "    # Corrigir a equivalência lógica (\"<=>\") para \"==\" dentro de parênteses\n",
        "    expressao = re.sub(r'\\(([^()]+)==([^()]+)\\)', r'(\\1 == \\2)', expressao)\n",
        "\n",
        "    # Corrigir a dupla implicação (\"\\Leftrightarrow\") para \"==\" dentro de parênteses\n",
        "    expressao = expressao.replace(r\"\\Leftrightarrow\", \" == \")\n",
        "\n",
        "\n",
        "    return int(eval(expressao))\n",
        "\n",
        "# Definir uma função para gerar uma tabela verdade para uma expressão lógica\n",
        "def gerar_tabela_verdade(expressao, mapeamento_variável):\n",
        "    # Capturar os operadores antes do primeiro parêntese\n",
        "    operadores_antes_parenteses = re.search(r'([^()]+)\\(', expressao)\n",
        "    operadores = operadores_antes_parenteses.group(1) if operadores_antes_parenteses else \"\"\n",
        "\n",
        "    # Remover o que está antes do primeiro \"(\" da expressão\n",
        "    expressao = re.sub(r'^[^()]*\\(', '(', expressao)\n",
        "\n",
        "    # Encontrar todas as variáveis na expressão\n",
        "    variaveis = re.findall(r'[A-Za-z]+\\([^)]*\\)', expressao)\n",
        "    variaveis = sorted(set(variaveis))\n",
        "\n",
        "    # Mapear variáveis complexas para variáveis simples\n",
        "    expressao_com_vars_complexos = expressao\n",
        "    for var_simples, var_complexo in mapeamento_variável.items():\n",
        "        expressao_com_vars_complexos = expressao_com_vars_complexos.replace(var_complexo, var_simples)\n",
        "\n",
        "    # Calcular o número de variáveis\n",
        "    num_variaveis = len(variaveis)\n",
        "\n",
        "    # Cabeçalho da tabela verdade\n",
        "    cabeca = \"   \".join(variaveis) + \"   resultado\"\n",
        "    print(cabeca)\n",
        "    print(\"-\" * (num_variaveis * 4 + 10))\n",
        "\n",
        "    conjuncoes = []\n",
        "    dijuncoes = []\n",
        "\n",
        "    # Gerar todas as combinações de valores para as variáveis\n",
        "    for i in reversed(range(2 ** num_variaveis)):\n",
        "        variavel_dict = {}\n",
        "        for j, var in enumerate(variaveis):\n",
        "            variavel_dict[var] = (i >> (num_variaveis - 1 - j)) & 1\n",
        "\n",
        "        # Avaliar a expressão lógica com os valores das variáveis\n",
        "        resultado = evaluate_expressao(expressao_com_vars_complexos, variavel_dict)\n",
        "\n",
        "        # Imprimir os valores das variáveis e o resultado\n",
        "        values_str = \"   \".join(str(variavel_dict[var]) for var in variaveis)\n",
        "        print(f\"{values_str}   {resultado}\")\n",
        "        print(\"\\n\")\n",
        "\n",
        "        if resultado:\n",
        "            conjuncao = r\" \\land \".join([f\"\\\\neg{var}\" if variavel_dict[var] else f\"{var}\" for var in variaveis])\n",
        "            conjuncoes.append(conjuncao)\n",
        "        else:\n",
        "            dijuncao = r\" \\lor \".join([f\"\\\\neg{var}\" if variavel_dict[var] else f\"{var}\" for var in variaveis])\n",
        "            dijuncoes.append(dijuncao)\n",
        "\n",
        "    # Criar e exibir a conjunção de dijunções formatada\n",
        "    conjucao_formatada = expressao_formatada(f\"{operadores}(\" + r\" \\land \".join(f\"({disj})\" for disj in dijuncoes) + \")\")\n",
        "    print(\"Conjunção de dijunções: \\n\")\n",
        "    display(Latex(f\"${conjucao_formatada}$\"))\n",
        "    print(\"\\n\")\n",
        "\n",
        "    # Criar e exibir a dijunção de conjunções formatada\n",
        "    dijuncao_formatada = expressao_formatada(f\"{operadores}(\" + r\" \\lor \".join(f\"({conj})\" for conj in conjuncoes) + \")\")\n",
        "    print(\"Dijunção de conjunções:\\n\")\n",
        "    display(Latex(f\"${dijuncao_formatada}$\"))\n",
        "    print(\"\\n\")\n",
        "\n",
        "# Ler as expressões lógicas e mapeamento de variáveis do arquivo TXT\n",
        "with open('FormasNormais.txt', 'r') as file:\n",
        "    linhas = file.readlines()\n",
        "    expressoes = []\n",
        "    mapeamento_variável = {}\n",
        "\n",
        "    for linha in linhas:\n",
        "        linha = linha.strip()\n",
        "        if linha.startswith(\"Expressao: \"):\n",
        "            expressao = linha.split(\": \")[1]\n",
        "            expressoes.append(expressao)\n",
        "        elif linha.startswith(\"Mapeamento: \"):\n",
        "            linha_de_mapeamento = linha.split(\": \")[1]\n",
        "            # Parse o mapeamento de variáveis\n",
        "            variable_pairs = re.findall(r'(\\w+)\\s*=\\s*(\\S+)', linha_de_mapeamento)\n",
        "            for var_simples, var_complexo in variable_pairs:\n",
        "                mapeamento_variável[var_complexo] = var_simples\n",
        "\n",
        "    # Processar cada expressão\n",
        "    for expressao in expressoes:\n",
        "        gerar_tabela_verdade(expressao, mapeamento_variável)\n"
      ]
    }
  ]
}